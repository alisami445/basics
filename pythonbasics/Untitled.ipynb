{
 "cells": [
  {
   "cell_type": "markdown",
   "metadata": {},
   "source": [
    "# ex1"
   ]
  },
  {
   "cell_type": "code",
   "execution_count": 19,
   "metadata": {},
   "outputs": [
    {
     "name": "stdout",
     "output_type": "stream",
     "text": [
      "DONNER VOTRE nom :hamouda\n",
      "DONNER VOTRE nom :youssef\n",
      "youssef hamouda\n"
     ]
    }
   ],
   "source": [
    "fn=input(\"DONNER VOTRE nom :\")\n",
    "ln=input(\"DONNER VOTRE nom :\")\n",
    "print(ln,fn)"
   ]
  },
  {
   "cell_type": "markdown",
   "metadata": {},
   "source": [
    "# ex3\n"
   ]
  },
  {
   "cell_type": "code",
   "execution_count": 7,
   "metadata": {},
   "outputs": [
    {
     "name": "stdout",
     "output_type": "stream",
     "text": [
      "donner un nombre2\n",
      "nombre pair\n"
     ]
    }
   ],
   "source": [
    "x=int(input(\"donner un nombre\"))\n",
    "if x%2==0:\n",
    "    print(\"nombre pair\")\n",
    "else:\n",
    "    print(\"nombre impair\")"
   ]
  },
  {
   "cell_type": "markdown",
   "metadata": {},
   "source": [
    "# ex 7"
   ]
  },
  {
   "cell_type": "code",
   "execution_count": 18,
   "metadata": {},
   "outputs": [
    {
     "name": "stdout",
     "output_type": "stream",
     "text": [
      "donner un nombre520\n",
      "votre remise est 260.0 prix final 260.0\n"
     ]
    }
   ],
   "source": [
    "x=int(input(\"donner un nombre\"))\n",
    "if x>=500:\n",
    "    rem=(x*50)/100\n",
    "    summ=x-rem\n",
    "    print(\"votre remise est\",rem,\"prix final\",summ)\n",
    "elif (x<500) and (x>=200):\n",
    "    rem=(x*30)/100\n",
    "    summ=x-rem\n",
    "    print(\"votre remise est\",rem,\"prix final\",summ)\n",
    "elif x<200 :\n",
    "    rem=(x*10)/100\n",
    "    summ=x-rem\n",
    "    print(\"votre remise est\",rem,\"prix final\",summ)\n",
    "    \n",
    "    "
   ]
  },
  {
   "cell_type": "markdown",
   "metadata": {},
   "source": [
    "# ex 2"
   ]
  },
  {
   "cell_type": "code",
   "execution_count": 22,
   "metadata": {},
   "outputs": [
    {
     "name": "stdout",
     "output_type": "stream",
     "text": [
      "donner un nombre :5\n",
      "615\n"
     ]
    }
   ],
   "source": [
    "x=input(\"donner un nombre :\")\n",
    "print(int(x)+int(x+x)+int(x+x+x))"
   ]
  },
  {
   "cell_type": "markdown",
   "metadata": {},
   "source": [
    "# ex 6"
   ]
  },
  {
   "cell_type": "code",
   "execution_count": 1,
   "metadata": {},
   "outputs": [
    {
     "name": "stdout",
     "output_type": "stream",
     "text": [
      "donner une chaine :hello team\n",
      "hlota\n"
     ]
    }
   ],
   "source": [
    "ch=input(\"donner une chaine :\")\n",
    "res=\"\"\n",
    "for i in range (len(ch)):\n",
    "    if i%2==0:\n",
    "        res+=ch[i]\n",
    "print(res)"
   ]
  },
  {
   "cell_type": "markdown",
   "metadata": {},
   "source": [
    "# ex4"
   ]
  },
  {
   "cell_type": "code",
   "execution_count": 2,
   "metadata": {},
   "outputs": [
    {
     "name": "stdout",
     "output_type": "stream",
     "text": [
      "2002 2009 2016 2023 2037 2044 2051 2058 2072 2079 2086 2093 2107 2114 2121 2128 2142 2149 2156 2163 2177 2184 2191 2198 2212 2219 2226 2233 2247 2254 2261 2268 2282 2289 2296 2303 2317 2324 2331 2338 2352 2359 2366 2373 2387 2394 2401 2408 2422 2429 2436 2443 2457 2464 2471 2478 2492 2499 2506 2513 2527 2534 2541 2548 2562 2569 2576 2583 2597 2604 2611 2618 2632 2639 2646 2653 2667 2674 2681 2688 2702 2709 2716 2723 2737 2744 2751 2758 2772 2779 2786 2793 2807 2814 2821 2828 2842 2849 2856 2863 2877 2884 2891 2898 2912 2919 2926 2933 2947 2954 2961 2968 2982 2989 2996 3003 3017 3024 3031 3038 3052 3059 3066 3073 3087 3094 3101 3108 3122 3129 3136 3143 3157 3164 3171 3178 3192 3199 "
     ]
    }
   ],
   "source": [
    "for i in range(2000,3200):\n",
    "    if i%7==0 and i%5!=0:\n",
    "        print(i,end=\" \")"
   ]
  },
  {
   "cell_type": "markdown",
   "metadata": {},
   "source": [
    "# ex8"
   ]
  },
  {
   "cell_type": "code",
   "execution_count": 8,
   "metadata": {},
   "outputs": [
    {
     "name": "stdout",
     "output_type": "stream",
     "text": [
      "donner un nombre2020\n",
      "leap years\n"
     ]
    }
   ],
   "source": [
    "x=int(input(\"donner un nombre\"))\n",
    "if (x%4==0) and (str(x)[2:4] != \"00\"):\n",
    "    print(\"leap years\")\n",
    "else:\n",
    "    print(\"not leap years\")"
   ]
  },
  {
   "cell_type": "markdown",
   "metadata": {},
   "source": [
    "# ex 5"
   ]
  },
  {
   "cell_type": "code",
   "execution_count": 13,
   "metadata": {},
   "outputs": [
    {
     "name": "stdout",
     "output_type": "stream",
     "text": [
      "donner un nombre8\n",
      "1 2 3 4 5 6 7 8 \n",
      "40320\n"
     ]
    }
   ],
   "source": [
    "x=int(input(\"donner un nombre\"))\n",
    "c=1\n",
    "for i in range (1,x+1):\n",
    "    c*=i\n",
    "    print(i,end=\" \")\n",
    "print()\n",
    "print(c)"
   ]
  },
  {
   "cell_type": "code",
   "execution_count": null,
   "metadata": {},
   "outputs": [],
   "source": []
  }
 ],
 "metadata": {
  "kernelspec": {
   "display_name": "Python 3",
   "language": "python",
   "name": "python3"
  },
  "language_info": {
   "codemirror_mode": {
    "name": "ipython",
    "version": 3
   },
   "file_extension": ".py",
   "mimetype": "text/x-python",
   "name": "python",
   "nbconvert_exporter": "python",
   "pygments_lexer": "ipython3",
   "version": "3.8.5"
  }
 },
 "nbformat": 4,
 "nbformat_minor": 4
}
